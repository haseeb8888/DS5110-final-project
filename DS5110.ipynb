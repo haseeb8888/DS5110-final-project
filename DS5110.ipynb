{
  "nbformat": 4,
  "nbformat_minor": 0,
  "metadata": {
    "colab": {
      "provenance": [],
      "authorship_tag": "ABX9TyPTY9UmBd7sSyLiWCC+OjGq",
      "include_colab_link": true
    },
    "kernelspec": {
      "name": "python3",
      "display_name": "Python 3"
    },
    "language_info": {
      "name": "python"
    }
  },
  "cells": [
    {
      "cell_type": "markdown",
      "metadata": {
        "id": "view-in-github",
        "colab_type": "text"
      },
      "source": [
        "<a href=\"https://colab.research.google.com/github/haseeb8888/DS5110-final-project/blob/main/DS5110.ipynb\" target=\"_parent\"><img src=\"https://colab.research.google.com/assets/colab-badge.svg\" alt=\"Open In Colab\"/></a>"
      ]
    },
    {
      "cell_type": "code",
      "execution_count": 2,
      "metadata": {
        "id": "HZhn3fT2QcfN"
      },
      "outputs": [],
      "source": [
        "import numpy as np # linear algebra\n",
        "import pandas as pd # data processing, CSV file I/O (e.g. pd.read_csv)\n",
        "import datetime as dt # processing dates\n",
        "import plotly.express as px # charts plotting\n",
        "import plotly.graph_objects as go # more customized plotting"
      ]
    },
    {
      "cell_type": "code",
      "source": [
        "retail = pd.read_csv('sample_data/online_retail_II.csv')\n",
        "retail.head()"
      ],
      "metadata": {
        "colab": {
          "base_uri": "https://localhost:8080/",
          "height": 206
        },
        "id": "N9x9-2_eQiH2",
        "outputId": "3990c17f-d3ca-4927-9aff-9a64b913cf13"
      },
      "execution_count": 3,
      "outputs": [
        {
          "output_type": "execute_result",
          "data": {
            "text/plain": [
              "  Invoice StockCode                          Description  Quantity  \\\n",
              "0  489434     85048  15CM CHRISTMAS GLASS BALL 20 LIGHTS        12   \n",
              "1  489434    79323P                   PINK CHERRY LIGHTS        12   \n",
              "2  489434    79323W                  WHITE CHERRY LIGHTS        12   \n",
              "3  489434     22041         RECORD FRAME 7\" SINGLE SIZE         48   \n",
              "4  489434     21232       STRAWBERRY CERAMIC TRINKET BOX        24   \n",
              "\n",
              "           InvoiceDate  Price  Customer ID         Country  \n",
              "0  2009-12-01 07:45:00   6.95      13085.0  United Kingdom  \n",
              "1  2009-12-01 07:45:00   6.75      13085.0  United Kingdom  \n",
              "2  2009-12-01 07:45:00   6.75      13085.0  United Kingdom  \n",
              "3  2009-12-01 07:45:00   2.10      13085.0  United Kingdom  \n",
              "4  2009-12-01 07:45:00   1.25      13085.0  United Kingdom  "
            ],
            "text/html": [
              "\n",
              "  <div id=\"df-7def1118-aea2-4f44-b282-499129718fa4\">\n",
              "    <div class=\"colab-df-container\">\n",
              "      <div>\n",
              "<style scoped>\n",
              "    .dataframe tbody tr th:only-of-type {\n",
              "        vertical-align: middle;\n",
              "    }\n",
              "\n",
              "    .dataframe tbody tr th {\n",
              "        vertical-align: top;\n",
              "    }\n",
              "\n",
              "    .dataframe thead th {\n",
              "        text-align: right;\n",
              "    }\n",
              "</style>\n",
              "<table border=\"1\" class=\"dataframe\">\n",
              "  <thead>\n",
              "    <tr style=\"text-align: right;\">\n",
              "      <th></th>\n",
              "      <th>Invoice</th>\n",
              "      <th>StockCode</th>\n",
              "      <th>Description</th>\n",
              "      <th>Quantity</th>\n",
              "      <th>InvoiceDate</th>\n",
              "      <th>Price</th>\n",
              "      <th>Customer ID</th>\n",
              "      <th>Country</th>\n",
              "    </tr>\n",
              "  </thead>\n",
              "  <tbody>\n",
              "    <tr>\n",
              "      <th>0</th>\n",
              "      <td>489434</td>\n",
              "      <td>85048</td>\n",
              "      <td>15CM CHRISTMAS GLASS BALL 20 LIGHTS</td>\n",
              "      <td>12</td>\n",
              "      <td>2009-12-01 07:45:00</td>\n",
              "      <td>6.95</td>\n",
              "      <td>13085.0</td>\n",
              "      <td>United Kingdom</td>\n",
              "    </tr>\n",
              "    <tr>\n",
              "      <th>1</th>\n",
              "      <td>489434</td>\n",
              "      <td>79323P</td>\n",
              "      <td>PINK CHERRY LIGHTS</td>\n",
              "      <td>12</td>\n",
              "      <td>2009-12-01 07:45:00</td>\n",
              "      <td>6.75</td>\n",
              "      <td>13085.0</td>\n",
              "      <td>United Kingdom</td>\n",
              "    </tr>\n",
              "    <tr>\n",
              "      <th>2</th>\n",
              "      <td>489434</td>\n",
              "      <td>79323W</td>\n",
              "      <td>WHITE CHERRY LIGHTS</td>\n",
              "      <td>12</td>\n",
              "      <td>2009-12-01 07:45:00</td>\n",
              "      <td>6.75</td>\n",
              "      <td>13085.0</td>\n",
              "      <td>United Kingdom</td>\n",
              "    </tr>\n",
              "    <tr>\n",
              "      <th>3</th>\n",
              "      <td>489434</td>\n",
              "      <td>22041</td>\n",
              "      <td>RECORD FRAME 7\" SINGLE SIZE</td>\n",
              "      <td>48</td>\n",
              "      <td>2009-12-01 07:45:00</td>\n",
              "      <td>2.10</td>\n",
              "      <td>13085.0</td>\n",
              "      <td>United Kingdom</td>\n",
              "    </tr>\n",
              "    <tr>\n",
              "      <th>4</th>\n",
              "      <td>489434</td>\n",
              "      <td>21232</td>\n",
              "      <td>STRAWBERRY CERAMIC TRINKET BOX</td>\n",
              "      <td>24</td>\n",
              "      <td>2009-12-01 07:45:00</td>\n",
              "      <td>1.25</td>\n",
              "      <td>13085.0</td>\n",
              "      <td>United Kingdom</td>\n",
              "    </tr>\n",
              "  </tbody>\n",
              "</table>\n",
              "</div>\n",
              "      <button class=\"colab-df-convert\" onclick=\"convertToInteractive('df-7def1118-aea2-4f44-b282-499129718fa4')\"\n",
              "              title=\"Convert this dataframe to an interactive table.\"\n",
              "              style=\"display:none;\">\n",
              "        \n",
              "  <svg xmlns=\"http://www.w3.org/2000/svg\" height=\"24px\"viewBox=\"0 0 24 24\"\n",
              "       width=\"24px\">\n",
              "    <path d=\"M0 0h24v24H0V0z\" fill=\"none\"/>\n",
              "    <path d=\"M18.56 5.44l.94 2.06.94-2.06 2.06-.94-2.06-.94-.94-2.06-.94 2.06-2.06.94zm-11 1L8.5 8.5l.94-2.06 2.06-.94-2.06-.94L8.5 2.5l-.94 2.06-2.06.94zm10 10l.94 2.06.94-2.06 2.06-.94-2.06-.94-.94-2.06-.94 2.06-2.06.94z\"/><path d=\"M17.41 7.96l-1.37-1.37c-.4-.4-.92-.59-1.43-.59-.52 0-1.04.2-1.43.59L10.3 9.45l-7.72 7.72c-.78.78-.78 2.05 0 2.83L4 21.41c.39.39.9.59 1.41.59.51 0 1.02-.2 1.41-.59l7.78-7.78 2.81-2.81c.8-.78.8-2.07 0-2.86zM5.41 20L4 18.59l7.72-7.72 1.47 1.35L5.41 20z\"/>\n",
              "  </svg>\n",
              "      </button>\n",
              "      \n",
              "  <style>\n",
              "    .colab-df-container {\n",
              "      display:flex;\n",
              "      flex-wrap:wrap;\n",
              "      gap: 12px;\n",
              "    }\n",
              "\n",
              "    .colab-df-convert {\n",
              "      background-color: #E8F0FE;\n",
              "      border: none;\n",
              "      border-radius: 50%;\n",
              "      cursor: pointer;\n",
              "      display: none;\n",
              "      fill: #1967D2;\n",
              "      height: 32px;\n",
              "      padding: 0 0 0 0;\n",
              "      width: 32px;\n",
              "    }\n",
              "\n",
              "    .colab-df-convert:hover {\n",
              "      background-color: #E2EBFA;\n",
              "      box-shadow: 0px 1px 2px rgba(60, 64, 67, 0.3), 0px 1px 3px 1px rgba(60, 64, 67, 0.15);\n",
              "      fill: #174EA6;\n",
              "    }\n",
              "\n",
              "    [theme=dark] .colab-df-convert {\n",
              "      background-color: #3B4455;\n",
              "      fill: #D2E3FC;\n",
              "    }\n",
              "\n",
              "    [theme=dark] .colab-df-convert:hover {\n",
              "      background-color: #434B5C;\n",
              "      box-shadow: 0px 1px 3px 1px rgba(0, 0, 0, 0.15);\n",
              "      filter: drop-shadow(0px 1px 2px rgba(0, 0, 0, 0.3));\n",
              "      fill: #FFFFFF;\n",
              "    }\n",
              "  </style>\n",
              "\n",
              "      <script>\n",
              "        const buttonEl =\n",
              "          document.querySelector('#df-7def1118-aea2-4f44-b282-499129718fa4 button.colab-df-convert');\n",
              "        buttonEl.style.display =\n",
              "          google.colab.kernel.accessAllowed ? 'block' : 'none';\n",
              "\n",
              "        async function convertToInteractive(key) {\n",
              "          const element = document.querySelector('#df-7def1118-aea2-4f44-b282-499129718fa4');\n",
              "          const dataTable =\n",
              "            await google.colab.kernel.invokeFunction('convertToInteractive',\n",
              "                                                     [key], {});\n",
              "          if (!dataTable) return;\n",
              "\n",
              "          const docLinkHtml = 'Like what you see? Visit the ' +\n",
              "            '<a target=\"_blank\" href=https://colab.research.google.com/notebooks/data_table.ipynb>data table notebook</a>'\n",
              "            + ' to learn more about interactive tables.';\n",
              "          element.innerHTML = '';\n",
              "          dataTable['output_type'] = 'display_data';\n",
              "          await google.colab.output.renderOutput(dataTable, element);\n",
              "          const docLink = document.createElement('div');\n",
              "          docLink.innerHTML = docLinkHtml;\n",
              "          element.appendChild(docLink);\n",
              "        }\n",
              "      </script>\n",
              "    </div>\n",
              "  </div>\n",
              "  "
            ]
          },
          "metadata": {},
          "execution_count": 3
        }
      ]
    },
    {
      "cell_type": "code",
      "source": [
        "retail.info()"
      ],
      "metadata": {
        "colab": {
          "base_uri": "https://localhost:8080/"
        },
        "id": "gMxS6zMIR-UF",
        "outputId": "eff10617-7e20-43d3-acbd-fb59093eefb6"
      },
      "execution_count": 4,
      "outputs": [
        {
          "output_type": "stream",
          "name": "stdout",
          "text": [
            "<class 'pandas.core.frame.DataFrame'>\n",
            "RangeIndex: 1067371 entries, 0 to 1067370\n",
            "Data columns (total 8 columns):\n",
            " #   Column       Non-Null Count    Dtype  \n",
            "---  ------       --------------    -----  \n",
            " 0   Invoice      1067371 non-null  object \n",
            " 1   StockCode    1067371 non-null  object \n",
            " 2   Description  1062989 non-null  object \n",
            " 3   Quantity     1067371 non-null  int64  \n",
            " 4   InvoiceDate  1067371 non-null  object \n",
            " 5   Price        1067371 non-null  float64\n",
            " 6   Customer ID  824364 non-null   float64\n",
            " 7   Country      1067371 non-null  object \n",
            "dtypes: float64(2), int64(1), object(5)\n",
            "memory usage: 65.1+ MB\n"
          ]
        }
      ]
    },
    {
      "cell_type": "code",
      "source": [
        "retail['InvoiceDate_DT'] = pd.to_datetime(retail['InvoiceDate'])\n",
        "retail = retail[retail['Customer ID'].notna()]\n",
        "retail['Customer ID'] = retail['Customer ID'].astype(np.int64)\n",
        "retail = retail.sort_values('InvoiceDate_DT')\n",
        "retail['Total'] = retail['Quantity'] * retail['Price']"
      ],
      "metadata": {
        "id": "5jT8e82ESUFt"
      },
      "execution_count": null,
      "outputs": []
    },
    {
      "cell_type": "code",
      "source": [
        "most_expensive = retail.loc[retail['Price'] == retail['Price'].max()]\n",
        "most_expensive "
      ],
      "metadata": {
        "id": "KrfeOWjqSZFd"
      },
      "execution_count": null,
      "outputs": []
    },
    {
      "cell_type": "code",
      "source": [
        "least_expensive = retail.loc[retail['Price'] == retail['Price'].min()]\n",
        "least_expensive = least_expensive.groupby(['Description', 'Price'], as_index=False)['Quantity'].agg('sum')\n",
        "least_expensive "
      ],
      "metadata": {
        "id": "mftt6jQ2SZyC"
      },
      "execution_count": null,
      "outputs": []
    },
    {
      "cell_type": "code",
      "source": [
        "retail_non_zero_price = retail.loc[retail['Price'] != 0]\n",
        "least_expensive_not_null = retail_non_zero_price.loc[retail_non_zero_price['Price'] == retail_non_zero_price['Price'].min()]\n",
        "least_expensive_not_null = least_expensive_not_null.groupby(['Description', 'Price'], as_index=False)['Quantity'].agg('sum')\n",
        "least_expensive_not_null"
      ],
      "metadata": {
        "id": "DDXZEM62ScHS"
      },
      "execution_count": null,
      "outputs": []
    },
    {
      "cell_type": "code",
      "source": [
        "retail_customers = retail.groupby(['Customer ID', 'Country'], as_index=False)['Total'].agg('sum')\n",
        "retail_customers_asc = retail_customers.sort_values('Total').head(10)\n",
        "retail_customers_desc = retail_customers.sort_values('Total', ascending=False).head(10)"
      ],
      "metadata": {
        "id": "OP5liwUeSg52"
      },
      "execution_count": null,
      "outputs": []
    },
    {
      "cell_type": "code",
      "source": [
        "fig = go.Figure(data=[\n",
        "    go.Bar(name='Customers With Max Total Purchase Amount', \n",
        "           x=retail_customers_desc['Customer ID'].astype(str), \n",
        "           y=retail_customers_desc['Total'],\n",
        "           marker_opacity=1,\n",
        "           hovertext=retail_customers_desc['Country'],\n",
        "           marker={'color': retail_customers_desc['Total'],\n",
        "                   'colorscale': 'Rainbow'})\n",
        "    ])\n",
        "\n",
        "fig.update_traces(texttemplate='£%{y:.3s}', textposition='inside')\n",
        "\n",
        "fig.update_layout(title='Customers With Max Total Purchase Amount',\n",
        "                  title_x=0.45,\n",
        "                  xaxis_title=\"Customer ID\",\n",
        "                  yaxis_title=\"Total Amount, £\",\n",
        "                  plot_bgcolor='white')\n",
        "fig.show()"
      ],
      "metadata": {
        "id": "06X86FrjShj3"
      },
      "execution_count": null,
      "outputs": []
    },
    {
      "cell_type": "code",
      "source": [
        "fig = go.Figure(data=[\n",
        "    go.Bar(name='Customers With Min Total Purchase Amount', \n",
        "           x=retail_customers_asc['Customer ID'].astype(str), \n",
        "           y=retail_customers_asc['Total'],\n",
        "           marker_opacity=1,\n",
        "           hovertext=retail_customers_desc['Country'],\n",
        "           marker={'color': retail_customers_desc['Total'],\n",
        "                   'colorscale': 'Rainbow'}\n",
        "          )\n",
        "    ])\n",
        "fig.update_xaxes(side=\"top\")\n",
        "\n",
        "fig.update_traces(texttemplate='£%{y:.3s}', textposition='inside')\n",
        "\n",
        "fig.update_layout(title='Customers With Min Total Purchase Amount',\n",
        "                  title_x=0.45,\n",
        "                  title_y=0.97,\n",
        "                  xaxis_title=\"Customer ID\",\n",
        "                  yaxis_title=\"Total Amount Returned, £\",\n",
        "                  plot_bgcolor='white')\n",
        "fig.show()"
      ],
      "metadata": {
        "id": "vYOgp1l0Smrs"
      },
      "execution_count": null,
      "outputs": []
    },
    {
      "cell_type": "code",
      "source": [
        "retail_countries_purchase = retail.groupby(['Country'], as_index=False)['Total'].agg('sum')\n",
        "retail_countries_purchase_asc = retail_countries_purchase.sort_values('Total').head(10)\n",
        "retail_countries_purchase_desc = retail_countries_purchase.sort_values('Total', ascending=False).head(10)"
      ],
      "metadata": {
        "id": "ysnOP2q9SrFS"
      },
      "execution_count": null,
      "outputs": []
    },
    {
      "cell_type": "code",
      "source": [
        "fig = go.Figure(data=[\n",
        "    go.Bar(name='Countries With Max Total Purchase Amount', \n",
        "           x=retail_countries_purchase_desc['Country'].astype(str), \n",
        "           y=retail_countries_purchase_desc['Total'],\n",
        "           marker_opacity=1,\n",
        "           marker={'color': retail_countries_purchase_desc['Total'],\n",
        "                   'colorscale': 'Rainbow'})\n",
        "    ])\n",
        "\n",
        "fig.update_traces(texttemplate='£%{y:.3s}', textposition='outside')\n",
        "\n",
        "fig.update_layout(title='Countries With Max Total Purchase Sum',\n",
        "                  title_x=0.45,\n",
        "                  xaxis_title=\"Countries\",\n",
        "                  yaxis_title=\"Total Amount, £\",\n",
        "                  plot_bgcolor='white')\n",
        "fig.show()"
      ],
      "metadata": {
        "id": "b2Dl-paEStb3"
      },
      "execution_count": null,
      "outputs": []
    },
    {
      "cell_type": "code",
      "source": [
        "fig = go.Figure(data=[\n",
        "    go.Bar(name='Countries With Min Total Purchase Amount', \n",
        "           x=retail_countries_purchase_asc['Country'].astype(str), \n",
        "           y=retail_countries_purchase_asc['Total'],\n",
        "           marker_opacity=1,\n",
        "           marker={'color': retail_countries_purchase_desc['Total'],\n",
        "                   'colorscale': 'Rainbow'}\n",
        "          )\n",
        "    ])\n",
        "\n",
        "fig.update_traces(texttemplate='£%{y:.3s}', textposition='inside')\n",
        "\n",
        "fig.update_layout(title='Countries With Min Total Purchase Amount',\n",
        "                  title_x=0.45,\n",
        "                  title_y=0.97,\n",
        "                  xaxis_title=\"Countries\",\n",
        "                  yaxis_title=\"Total Amount, £\",\n",
        "                  plot_bgcolor='white')\n",
        "fig.show()"
      ],
      "metadata": {
        "id": "jMA2laSPSv4q"
      },
      "execution_count": null,
      "outputs": []
    },
    {
      "cell_type": "code",
      "source": [
        "retail_countries_customers = retail.groupby(['Country'], as_index=False)['Customer ID'].agg({'Customer ID': 'nunique'})\n",
        "retail_countries_customers.rename(columns={'Customer ID': 'Customer Count'}, inplace=True)\n",
        "retail_countries_customers_asc = retail_countries_customers.sort_values('Customer Count').head(10)\n",
        "retail_countries_customers_desc = retail_countries_customers.sort_values('Customer Count', ascending=False).head(10)"
      ],
      "metadata": {
        "id": "G7_oBXidSy7O"
      },
      "execution_count": null,
      "outputs": []
    },
    {
      "cell_type": "code",
      "source": [
        "fig = go.Figure(data=[\n",
        "    go.Bar(name='Countries with Largest Number of Unique Customers', \n",
        "           x=retail_countries_customers_desc['Country'].astype(str), \n",
        "           y=retail_countries_customers_desc['Customer Count'],\n",
        "           marker_opacity=1,\n",
        "           marker={'color': retail_countries_customers_desc['Customer Count'],\n",
        "                   'colorscale': 'Rainbow'})\n",
        "    ])\n",
        "\n",
        "fig.update_traces(texttemplate='%{y:.3s}', textposition='outside')\n",
        "\n",
        "fig.update_layout(title='Countries with Largest Number of Unique Customers',\n",
        "                  title_x=0.45,\n",
        "                  xaxis_title=\"Countries\",\n",
        "                  yaxis_title=\"Number of Unique Customers\",\n",
        "                  plot_bgcolor='white')\n",
        "fig.show()"
      ],
      "metadata": {
        "id": "M5tLEammS1DQ"
      },
      "execution_count": null,
      "outputs": []
    },
    {
      "cell_type": "code",
      "source": [
        "fig = go.Figure(data=[\n",
        "    go.Bar(name='Countries with Smallest Number of Unique Customers', \n",
        "           x=retail_countries_customers_asc['Country'].astype(str), \n",
        "           y=retail_countries_customers_asc['Customer Count'],\n",
        "           marker_opacity=1,\n",
        "           marker={'color': retail_countries_customers_desc['Customer Count'],\n",
        "                   'colorscale': 'Rainbow'}\n",
        "          )\n",
        "    ])\n",
        "\n",
        "fig.update_traces(texttemplate='%{y:.3s}', textposition='outside')\n",
        "\n",
        "fig.update_layout(title='Countries with Smallest Number of Unique Customers',\n",
        "                  title_x=0.45,\n",
        "                  title_y=0.97,\n",
        "                  xaxis_title=\"Countries\",\n",
        "                  yaxis_title=\"Number of Unique Customers\",\n",
        "                  plot_bgcolor='white')\n",
        "fig.show()"
      ],
      "metadata": {
        "id": "KUmDl65TS4j6"
      },
      "execution_count": null,
      "outputs": []
    },
    {
      "cell_type": "code",
      "source": [
        "retail_products = retail.groupby(['Description'], as_index=False)['Quantity'].agg('sum')\n",
        "retail_products = retail_products.loc[~retail_products['Description'].isin(['CRUK Commission', 'Discount'])]\n",
        "retail_products_asc = retail_products.sort_values('Quantity').head(10)\n",
        "retail_products_asc['Quantity'] = retail_products_asc['Quantity'] * (-1)\n",
        "retail_products_desc = retail_products.sort_values('Quantity', ascending=False).head(10)"
      ],
      "metadata": {
        "id": "T1aXF1PsS7OX"
      },
      "execution_count": null,
      "outputs": []
    },
    {
      "cell_type": "code",
      "source": [
        "fig = go.Figure(data=[\n",
        "    go.Bar(name='10 Bestselling Products', \n",
        "           x=retail_products_desc['Description'].astype(str), \n",
        "           y=retail_products_desc['Quantity'],\n",
        "           marker_opacity=1,\n",
        "           marker={'color': retail_products_desc['Quantity'],\n",
        "                   'colorscale': 'Rainbow'})\n",
        "    ])\n",
        "\n",
        "fig.update_traces(texttemplate='%{y:.3s}', textposition='outside')\n",
        "fig.update_layout(barmode='group', showlegend=False)\n",
        "\n",
        "fig.update_layout(title='10 Bestselling Products',\n",
        "                  title_x=0.45,\n",
        "                  xaxis_title=\"Products\",\n",
        "                  yaxis_title=\"Total Quantity Sold\",\n",
        "                  plot_bgcolor='white')\n",
        "fig.show()"
      ],
      "metadata": {
        "id": "P2Sol2UaS9iC"
      },
      "execution_count": null,
      "outputs": []
    },
    {
      "cell_type": "code",
      "source": [
        "fig = go.Figure(data=[\n",
        "    go.Bar(name='10 Products With Most Returns', \n",
        "           x=retail_products_asc['Description'].astype(str), \n",
        "           y=retail_products_asc['Quantity'],\n",
        "           marker_opacity=1,\n",
        "           marker={'color': retail_products_desc['Quantity'],\n",
        "                   'colorscale': 'Rainbow'}\n",
        "          )\n",
        "    ])\n",
        "\n",
        "fig.update_traces(texttemplate='%{y:.3s}', textposition='outside')\n",
        "fig.update_layout(barmode='group', showlegend=False)\n",
        "\n",
        "fig.update_layout(title='10 Products With Most Returns',\n",
        "                  title_x=0.45,\n",
        "                  title_y=0.97,\n",
        "                  xaxis_title=\"Products\",\n",
        "                  yaxis_title=\"Total Quantity Returned\",\n",
        "                  plot_bgcolor='white')\n",
        "fig.show()"
      ],
      "metadata": {
        "id": "keHksQIYS9qJ"
      },
      "execution_count": null,
      "outputs": []
    },
    {
      "cell_type": "code",
      "source": [
        "retail = retail[retail['InvoiceDate_DT'].dt.year != 2009]\n",
        "retail['InvoiceQuarter'] = ('Q' + retail['InvoiceDate_DT'].dt.quarter.astype(str) + \n",
        "                            '/' + retail['InvoiceDate_DT'].dt.year.astype(str))\n",
        "quarters_map = dict(zip(retail['InvoiceQuarter'].unique(), \n",
        "                        range(len(retail['InvoiceQuarter'].unique()))))\n",
        "retail['InvoiceQuarterID'] = retail['InvoiceQuarter'].map(quarters_map)\n",
        "retail['CohortQuarterID'] = retail.groupby('Customer ID')['InvoiceQuarterID'].transform('min')\n",
        "retail['CohortQuarter'] = retail['CohortQuarterID'].map(dict(zip(quarters_map.values(), quarters_map.keys())))\n",
        "retail['CohortIndex'] = retail['InvoiceQuarterID'] - retail['CohortQuarterID']"
      ],
      "metadata": {
        "id": "XScmw9LETCnF"
      },
      "execution_count": null,
      "outputs": []
    },
    {
      "cell_type": "code",
      "source": [
        "cohort_retention = retail.groupby(['CohortQuarterID', 'CohortIndex'])['Customer ID'].apply(pd.Series.nunique).reset_index()\n",
        "cohort_retention.rename(columns={'Customer ID': 'Customer Count'}, inplace=True)\n",
        "cohort_retention_count = cohort_retention.pivot_table(index='CohortQuarterID', \n",
        "                                                      columns='CohortIndex', \n",
        "                                                      values='Customer Count')\n",
        "cohort_retention_count['CohortQuarter'] = cohort_retention_count.index.map(dict(zip(quarters_map.values(), \n",
        "                                                                                    quarters_map.keys())))\n",
        "cohort_retention_count = cohort_retention_count.set_index('CohortQuarter')\n",
        "cohort_size = cohort_retention_count.iloc[:, 0]\n",
        "retention = cohort_retention_count.divide(cohort_size, axis = 0)\n",
        "retention = (retention*100).round(2)\n",
        "retention = retention.iloc[::-1]"
      ],
      "metadata": {
        "id": "MNsOq4-mTEvz"
      },
      "execution_count": null,
      "outputs": []
    },
    {
      "cell_type": "code",
      "source": [
        "fig = go.Figure(data=go.Heatmap(\n",
        "                    z=retention,\n",
        "                    y=retention.index,\n",
        "                    colorscale='Greens',\n",
        "                    text=retention,\n",
        "                    texttemplate = \"%{text}%\",\n",
        "                    colorbar_title='Retention Rate, %',\n",
        "                    xgap=3,\n",
        "                    ygap=3))\n",
        "\n",
        "fig.update_xaxes(side=\"top\")\n",
        "\n",
        "fig.update_layout(title=\"Cohort Analysis: Retention Rate\",\n",
        "                  xaxis_title=\"Cohorts\",\n",
        "                  yaxis_title=\"Quarters\",\n",
        "                  \n",
        "                  title_x=0.5,\n",
        "                  title_y=0.99,\n",
        "                  plot_bgcolor='white')\n",
        "fig.show()"
      ],
      "metadata": {
        "id": "urr349xETHA3"
      },
      "execution_count": null,
      "outputs": []
    },
    {
      "cell_type": "code",
      "source": [
        "cohort_quantity = retail.groupby(['CohortQuarterID', 'CohortIndex'])['Quantity'].mean().reset_index()\n",
        "cohort_quantity.rename(columns={'Quantity': 'Average Quantity'}, inplace=True)\n",
        "average_quantity  = cohort_quantity.pivot_table(index = 'CohortQuarterID',\n",
        "                                                columns = 'CohortIndex',\n",
        "                                                values = 'Average Quantity').round(1)\n",
        "average_quantity['CohortQuarter'] = average_quantity.index.map(dict(zip(quarters_map.values(), \n",
        "                                                                        quarters_map.keys())))\n",
        "average_quantity = average_quantity.set_index('CohortQuarter')\n",
        "average_quantity = average_quantity.iloc[::-1]\n"
      ],
      "metadata": {
        "id": "0b280p6VTI6d"
      },
      "execution_count": null,
      "outputs": []
    },
    {
      "cell_type": "code",
      "source": [
        "fig = go.Figure(data=go.Heatmap(\n",
        "                    z=average_quantity,\n",
        "                    y=average_quantity.index,\n",
        "                    colorscale='Blues',\n",
        "                    text=average_quantity,\n",
        "                    texttemplate = \"%{text}\",\n",
        "                    colorbar_title='Average Quantity',\n",
        "                    xgap=3,\n",
        "                    ygap=3))\n",
        "\n",
        "fig.update_xaxes(side=\"top\")\n",
        "\n",
        "fig.update_layout(title=\"Cohort Analysis: Average Quantity\",\n",
        "                  xaxis_title=\"Cohorts\",\n",
        "                  yaxis_title=\"Quarters\",\n",
        "                  \n",
        "                  title_x=0.5,\n",
        "                  title_y=0.99,\n",
        "                  plot_bgcolor='white')\n",
        "fig.show()"
      ],
      "metadata": {
        "id": "yBySK_lvTKv6"
      },
      "execution_count": null,
      "outputs": []
    },
    {
      "cell_type": "code",
      "source": [
        "retail_quarters_by_sales = retail.groupby(['InvoiceQuarterID'], as_index=False)['Total'].agg('sum')\n",
        "retail_quarters_by_sales['InvoiceQuarter'] = retail_quarters_by_sales['InvoiceQuarterID'].map(dict(zip(quarters_map.values(), \n",
        "                                                                                                               quarters_map.keys())))"
      ],
      "metadata": {
        "id": "DOhIc9qLTOw9"
      },
      "execution_count": null,
      "outputs": []
    },
    {
      "cell_type": "code",
      "source": [
        "fig = go.Figure(data=[\n",
        "    go.Bar(name='Quarterly Sales', \n",
        "           x=retail_quarters_by_sales['InvoiceQuarter'],\n",
        "           y=retail_quarters_by_sales['Total'],\n",
        "           marker_opacity=1,\n",
        "           text='Total',\n",
        "           marker={'color': retail_quarters_by_sales['Total'],\n",
        "                   'colorscale': 'Portland'}\n",
        "          )\n",
        "    ])\n",
        "\n",
        "fig.update_traces(texttemplate='%{text}: £%{y:.3s}', textposition='outside')\n",
        "fig.update_layout(barmode='group', showlegend=False)\n",
        "\n",
        "fig.update_layout(title=\"Quarterly Sales\",\n",
        "                  title_x = 0.45,\n",
        "                  xaxis_title=\"Quarters\",\n",
        "                  yaxis_title=\"Total Amount, £\",\n",
        "                  plot_bgcolor='white')\n",
        "fig.show()"
      ],
      "metadata": {
        "id": "F_TC_uznTQlg"
      },
      "execution_count": null,
      "outputs": []
    },
    {
      "cell_type": "code",
      "source": [
        "retail_monthly = retail.copy()\n",
        "retail_monthly['InvoiceMonth'] = retail_monthly['InvoiceDate_DT'].dt.to_period('M')\n",
        "retail_monthly_by_sales = retail_monthly.groupby(['InvoiceMonth'], as_index=False)['Total'].agg('sum')"
      ],
      "metadata": {
        "id": "NAgCHsQbTS0n"
      },
      "execution_count": null,
      "outputs": []
    },
    {
      "cell_type": "code",
      "source": [
        "fig = go.Figure(data=[\n",
        "    go.Bar(name='Monthly Sales', \n",
        "           x=retail_monthly_by_sales['InvoiceMonth'].astype(str),\n",
        "           y=retail_monthly_by_sales['Total'],\n",
        "           marker_opacity=1,\n",
        "           marker={'color': retail_monthly_by_sales['Total'],\n",
        "                   'colorscale': 'Portland'}\n",
        "          )\n",
        "    ])\n",
        "\n",
        "fig.update_layout(barmode='group', showlegend=False)\n",
        "\n",
        "fig.update_layout(title=\"Monthly Sales\",\n",
        "                  title_x = 0.45,\n",
        "                  xaxis_title=\"Months\",\n",
        "                  yaxis_title=\"Total Amount, £\",\n",
        "                  plot_bgcolor='white')\n",
        "fig.show()"
      ],
      "metadata": {
        "id": "B8RKBkxFTUx5"
      },
      "execution_count": null,
      "outputs": []
    }
  ]
}